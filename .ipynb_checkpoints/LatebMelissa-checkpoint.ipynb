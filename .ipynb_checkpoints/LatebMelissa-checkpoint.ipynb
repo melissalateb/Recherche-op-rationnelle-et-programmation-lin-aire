{
 "cells": [
  {
   "cell_type": "markdown",
   "metadata": {},
   "source": [
    "# EXAMEN ROPL\n",
    "\n",
    "Fichier à :\n",
    "* Renommer avec votre NomPrenom\n",
    "* Envoyer **avant 16h** à roland.grappe@lamsade.dauphine.fr\n",
    "\n",
    "## Nom - Prénom (double-cliquer ici, puis exécuter la cellule) :\n",
    "\n",
    "* LATEB MELISSA\n",
    "\n",
    "\n",
    "**Enregistrez bien votre fichier avant de l'envoyer.**\n",
    "\n",
    "**Commentez bien votre cote :** Décrivez précisément vos variables/contraintes/fonction objectif, ou autre, en commentaire."
   ]
  },
  {
   "cell_type": "code",
   "execution_count": 1,
   "metadata": {},
   "outputs": [],
   "source": [
    "# Librairies à importer pour utiliser JuMP avec le solver GLPK\n",
    "using JuMP\n",
    "using GLPK\n",
    "\n",
    "# Définition de constantes pour le statut de résolution du problème\n",
    "const OPTIMAL = JuMP.OPTIMAL\n",
    "const INFEASIBLE = JuMP.INFEASIBLE\n",
    "const UNBOUNDED = JuMP.DUAL_INFEASIBLE;"
   ]
  },
  {
   "cell_type": "markdown",
   "metadata": {
    "deletable": false,
    "editable": false,
    "run_control": {
     "frozen": true
    }
   },
   "source": [
    "# Exercice 1 :\n",
    "\n",
    "Un fermier dispose de $100$ acres de terre (une acre est une mesure de surface agraire), et de $1100$ euros d'investissement pour une période de $160$ jours de main d'oeuvre. Vous disposez de l'ensemble des informations suivantes.\n",
    "\n",
    "Coût de travail et d'ensemencement :\n",
    " * $20$ euros  par acre de blé,\n",
    " * $10$ euros  par acre de pommes de terre.\n",
    "\n",
    "Temps de main d'oeuvre :\n",
    "* $4$ jours par acre de blé,\n",
    "* $1$ jours par acre de pommes de terre.\n",
    "\n",
    "Revenus :\n",
    "* $120$ euros  par acre de blé,\n",
    "* $40$ euros  par acre de pommes de terre.\n",
    "\n",
    "\n",
    "**Q1.** Répondre grâce à Julia : Quelles surfaces de blé et de pommes de terre cultiver pour obtenir un revenu maximum ?\n",
    "\n",
    "Afficher le nombre de jours travaillés ainsi que le montant dépensé sur les 1100 euros d'investissement.\n"
   ]
  },
  {
   "cell_type": "code",
   "execution_count": 2,
   "metadata": {
    "scrolled": true
   },
   "outputs": [
    {
     "name": "stdout",
     "output_type": "stream",
     "text": [
      "Surface de blé à cultiver: 25.0 acres\n",
      "Surface de pommes de terre à cultiver: 60.0 acres\n",
      "Revenu total: 5400.0 euros\n",
      "Jours de travail utilisés: 160.0 jours\n",
      "Montant dépensé: 1100.0 euros sur 1100 euros d'investissement\n"
     ]
    }
   ],
   "source": [
    "############################## \n",
    "#   Saisir votre code ici.   #\n",
    "##############################\n",
    "# Q1 - Pour trouver la surface de blé et de pommes de terre pour avoir un revenu maximum \n",
    "# Il suffit de maximiser la fonction objective definie ci-dessou:\n",
    "\n",
    "\n",
    "# Création du modèle\n",
    "model = Model(GLPK.Optimizer)\n",
    "\n",
    "# Variables de décision : Surface de blé (w) et de pommes de terre (p) à cultiver\n",
    "@variable(model, w >= 0)  # Surface de blé\n",
    "@variable(model, p >= 0)  # Surface de pommes de terre\n",
    "\n",
    "# Contraintes\n",
    "@constraint(model, w + p <= 100)  # Contrainte de surface totale disponible\n",
    "@constraint(model, 20w + 10p <= 1100)  # Contrainte de coût total d'investissement\n",
    "@constraint(model, 4w + p <= 160)  # Contrainte de jours de main d'oeuvre disponibles\n",
    "\n",
    "# Fonction objectif : Maximiser le revenu total\n",
    "@objective(model, Max, 120w + 40p)\n",
    "\n",
    "# Résolution du modèle avec optimize\n",
    "optimize!(model)\n",
    "\n",
    "# Afficher les resultats:\n",
    "\n",
    "println(\"Surface de blé à cultiver: \", value(w), \" acres\")\n",
    "println(\"Surface de pommes de terre à cultiver: \", value(p), \" acres\")\n",
    "println(\"Revenu total: \", objective_value(model), \" euros\")\n",
    "println(\"Jours de travail utilisés: \", value(4w + p), \" jours\")\n",
    "println(\"Montant dépensé: \", value(20w + 10p), \" euros sur 1100 euros d'investissement\")\n",
    "#Résultats:\n",
    "#Surface de blé à cultiver: 25.0 acres\n",
    "#Surface de pommes de terre à cultiver: 60.0 acres\n",
    "#Revenu total: 5400.0 euros\n",
    "#Jours de travail utilisés: 160.0 jours\n",
    "#Montant dépensé: 1100.0 euros sur 1100 euros d'investissement\n"
   ]
  },
  {
   "cell_type": "markdown",
   "metadata": {
    "deletable": false,
    "editable": false,
    "run_control": {
     "frozen": true
    }
   },
   "source": [
    "**Q2.** Proposer une autre méthode pour résoudre ce problème d'optimisation."
   ]
  },
  {
   "cell_type": "code",
   "execution_count": 3,
   "metadata": {},
   "outputs": [
    {
     "name": "stdout",
     "output_type": "stream",
     "text": [
      "Surface optimale de blé à cultiver: 25 acres\n",
      "Surface optimale de pommes de terre à cultiver: 60 acres\n",
      "Revenu maximal: 5400 euros\n"
     ]
    }
   ],
   "source": [
    "#Q2. Expliquer ici la marche à suivre:\n",
    "# nous pouvons utiliser la méthode de recherche par grille qui teste toutes les combinaisons possibles pour cultiver du blé \n",
    "#et des pommes de terre, cela reste une methode longue en complexité car on calcul toutes les combinaison possibl et on \n",
    "#trouve la meilleure combinaison qui respecte les limites de terre, d'argent, et de travail, et qui donne le plus d'argent.\n",
    "# Initialisation des variables pour conserver le meilleur revenu et les surfaces optimales\n",
    "max_revenu = 0\n",
    "surface_ble_optimale = 0\n",
    "surface_pommes_de_terre_optimale = 0\n",
    "\n",
    "# Paramètres du problème\n",
    "budget_total = 1100\n",
    "jours_oeuvre_total = 160\n",
    "surface_total = 100\n",
    "\n",
    "# Coûts et revenus unitaires\n",
    "cout_ble = 20\n",
    "cout_pommes_de_terre = 10\n",
    "jours_ble = 4\n",
    "jours_pommes_de_terre = 1\n",
    "revenu_ble = 120\n",
    "revenu_pommes_de_terre = 40\n",
    "\n",
    "# Boucle de recherche par grille\n",
    "for surface_ble in 0:surface_total\n",
    "    for surface_pommes_de_terre in 0:(surface_total - surface_ble)\n",
    "        coût = cout_ble * surface_ble + cout_pommes_de_terre * surface_pommes_de_terre\n",
    "        jours_oeuvre = jours_ble * surface_ble + jours_pommes_de_terre * surface_pommes_de_terre\n",
    "        revenu = revenu_ble * surface_ble + revenu_pommes_de_terre * surface_pommes_de_terre\n",
    "        \n",
    "        # Vérification des contraintes de budget et de jours de main d'œuvre\n",
    "        if coût <= budget_total && jours_oeuvre <= jours_oeuvre_total\n",
    "            # Mise à jour du meilleur revenu et des surfaces optimales si le revenu actuel est plus élevé\n",
    "            if revenu > max_revenu\n",
    "                max_revenu = revenu\n",
    "                surface_ble_optimale = surface_ble\n",
    "                surface_pommes_de_terre_optimale = surface_pommes_de_terre\n",
    "            end\n",
    "        end\n",
    "    end\n",
    "end\n",
    "\n",
    "# Affichage des résultats\n",
    "println(\"Surface optimale de blé à cultiver: \", surface_ble_optimale, \" acres\")\n",
    "println(\"Surface optimale de pommes de terre à cultiver: \", surface_pommes_de_terre_optimale, \" acres\")\n",
    "println(\"Revenu maximal: \", max_revenu, \" euros\")\n",
    "\n",
    "#Résultat:\n",
    "#Surface optimale de blé à cultiver: 25 acres\n",
    "#Surface optimale de pommes de terre à cultiver: 60 acres\n",
    "#Revenu maximal: 5400 euros\n"
   ]
  },
  {
   "cell_type": "markdown",
   "metadata": {
    "deletable": false,
    "editable": false,
    "run_control": {
     "frozen": true
    }
   },
   "source": [
    "**Q3.** Le fermier peut embaucher un ouvrier pour travailler quelques jours de plus. Pour que cela lui reste rentable, quel salaire journalier peut-il proposer au maximum ?"
   ]
  },
  {
   "cell_type": "code",
   "execution_count": 6,
   "metadata": {},
   "outputs": [
    {
     "name": "stdout",
     "output_type": "stream",
     "text": [
      "Revenu initial : 5400.0\n",
      "Revenu avec un jour supplementaires : 5420.0\n",
      "Revenu avec deux jours supplementaires : 5440.0\n",
      "Revenu supp par jour : 20.0\n",
      "\n",
      "Donc le salaire journalier maximum que le fermier peut offrir est : 20.0 euros\n"
     ]
    }
   ],
   "source": [
    "#Q3. Pour cette question il faut voir combien le fermier gagne de revenu en plus en employant un ouvrier\n",
    "using JuMP, GLPK\n",
    "\n",
    "# Fonction pour calculer le revenu maximum en fonction des jours de travail supplémentaires\n",
    "# en prenant en compte 160 jours + le nbre de jours que le fermier auras travaillée\n",
    "# Les autres conditions ne changement pas (surface, revenu)\n",
    "function calculer_revenu_max(jours_supplementaires::Int)\n",
    "    model = Model(GLPK.Optimizer)\n",
    "    @variable(model, blé >= 0)\n",
    "    @variable(model, pommes_de_terre >= 0)\n",
    "    @constraint(model, blé + pommes_de_terre <= 100)\n",
    "    @constraint(model, 20*blé + 10*pommes_de_terre <= 1100)\n",
    "    @constraint(model, 4*blé + pommes_de_terre <= 160 + jours_supplementaires)\n",
    "    @objective(model, Max, 120*blé + 40*pommes_de_terre)\n",
    "    optimize!(model)\n",
    "    return objective_value(model)\n",
    "end\n",
    "\n",
    "# Revenu maximum sans jours supplémentaires\n",
    "revenu_initial = calculer_revenu_max(0)\n",
    "println(\"Revenu initial : \", revenu_initial)\n",
    "# tester avec un ou deux jours de travail supplémentaires\n",
    "revenu_avec_supplémentaire_1 = calculer_revenu_max(1)\n",
    "println(\"Revenu avec un jour supplementaires : \", revenu_avec_supplémentaire_1)\n",
    "revenu_avec_supplémentaire_2 = calculer_revenu_max(2)\n",
    "println(\"Revenu avec deux jours supplementaires : \", revenu_avec_supplémentaire_2)\n",
    "\n",
    "# Revenu supplémentaire généré par un jour de travail supplémentaire\n",
    "revenu_supplémentaire_par_jour = revenu_avec_supplémentaire_1 - revenu_initial\n",
    "println(\"Revenu supp par jour : \", revenu_supplémentaire_par_jour)\n",
    "# Le salaire journalier maximum que le fermier peut proposer est le revenu supplémentaire par jour\n",
    "println(\"\")\n",
    "println(\"Donc le salaire journalier maximum que le fermier peut offrir est : \", revenu_supplémentaire_par_jour, \" euros\")"
   ]
  },
  {
   "cell_type": "markdown",
   "metadata": {
    "deletable": false,
    "editable": false,
    "run_control": {
     "frozen": true
    }
   },
   "source": [
    "**Q4.** Pour les années suivantes, le fermier réfléchit à diversifier sa production : écrire une fonction qui résout le problème du fermier, et qui prend en entrée \n",
    "* un tableau de taille $3\\times n$, où $n$ est le nombre de plantations différentes, et : \n",
    "  * La première ligne contient le coût de travail et d'ensemencement\n",
    "  * la deuxième le temps de main d'oeuvre\n",
    "  * la troisième le revenu\n",
    " \n",
    "* une valeur contenant le montant qu'il est prêt à investir\n",
    "* une valeur contenant le nombre de jours de travail disponibles"
   ]
  },
  {
   "cell_type": "code",
   "execution_count": 12,
   "metadata": {},
   "outputs": [
    {
     "data": {
      "text/plain": [
       "optimize_farming_simple (generic function with 1 method)"
      ]
     },
     "execution_count": 12,
     "metadata": {},
     "output_type": "execute_result"
    }
   ],
   "source": [
    "#Q4. en utilisant une methode generique (pas de variables fixe)\n",
    "\n",
    "# Définition de la fonction simplifiée pour résoudre le problème d'optimisation agricole \n",
    "function optimize_farming_simple(investment, workdays, crop_data)\n",
    "    model = Model(GLPK.Optimizer)  # Initialisation du modèle avec GLPK\n",
    "    \n",
    "    n = size(crop_data, 2)  # Nombre de types de cultures\n",
    "    @variable(model, x[1:n] >= 0)  # Surfaces à cultiver pour chaque culture\n",
    "    \n",
    "    # Contrainte de budget\n",
    "    @constraint(model, sum(crop_data[1, i] * x[i] for i=1:n) <= investment)\n",
    "    \n",
    "    # Contrainte de temps de travail\n",
    "    @constraint(model, sum(crop_data[2, i] * x[i] for i=1:n) <= workdays)\n",
    "    \n",
    "    # Maximisation du revenu\n",
    "    @objective(model, Max, sum(crop_data[3, i] * x[i] for i=1:n))\n",
    "    \n",
    "    optimize!(model)  # Résolution du modèle\n",
    "    \n",
    "    if termination_status(model) == MOI.OPTIMAL\n",
    "        println(\"Solution optimale trouvée:\")\n",
    "        for i in 1:n\n",
    "            println(\"Surface à cultiver pour la culture $i : \", value(x[i]), \" acres\")\n",
    "        end\n",
    "        println(\"Revenu maximal atteignable : \", objective_value(model), \" euros\")\n",
    "    else\n",
    "        println(\"Aucune solution optimale trouvée.\")\n",
    "    end\n",
    "    \n",
    "    # Extraction et retour des résultats\n",
    "    optimal_surfaces = value.(x)\n",
    "    max_revenue = objective_value(model)\n",
    "    return optimal_surfaces, max_revenue\n",
    "end\n",
    "\n"
   ]
  },
  {
   "cell_type": "markdown",
   "metadata": {
    "deletable": false,
    "editable": false,
    "run_control": {
     "frozen": true
    }
   },
   "source": [
    "**Q5.** Utiliser votre fonction pour résoudre la variante suivante :\n",
    "\n",
    "\n",
    "plantes | blé | patate | betterave | radis | laitue | carotte | panais | potiron | rutabaga\n",
    "-|-|-|-|-|-|-|-|-|-\n",
    "coût|20|10|15|30|5|14|18|10|50\n",
    "temps de travail|4|1|2|10|5|2|3|3|1\n",
    "revenu|120|40|70|20|40|50|30|60|100\n",
    "\n",
    "Investissement : 10000 euros\n",
    "\n",
    "Jours de travail : 255"
   ]
  },
  {
   "cell_type": "code",
   "execution_count": 13,
   "metadata": {},
   "outputs": [
    {
     "name": "stdout",
     "output_type": "stream",
     "text": [
      "Solution optimale trouvée:\n",
      "Surface à cultiver pour la culture 1 : 0.0 acres\n",
      "Surface à cultiver pour la culture 2 : 68.75000000000001 acres\n",
      "Surface à cultiver pour la culture 3 : 0.0 acres\n",
      "Surface à cultiver pour la culture 4 : 0.0 acres\n",
      "Surface à cultiver pour la culture 5 : 0.0 acres\n",
      "Surface à cultiver pour la culture 6 : 0.0 acres\n",
      "Surface à cultiver pour la culture 7 : 0.0 acres\n",
      "Surface à cultiver pour la culture 8 : 0.0 acres\n",
      "Surface à cultiver pour la culture 9 : 186.25 acres\n",
      "Revenu maximal atteignable : 21375.0 euros\n",
      "([0.0, 68.75000000000001, 0.0, 0.0, 0.0, 0.0, 0.0, 0.0, 186.25], 21375.0)"
     ]
    }
   ],
   "source": [
    " \n",
    "#  Q5. utilisation de la fct il suffit de l'executer et de print le resultat\n",
    "# avec le bidget 10000 les jours 255 et les donnes M\n",
    "\n",
    "M = [\n",
    "    20 10 15 30 5 14 18 10 50\n",
    "    4 1 2 10 5 2 3 3 1\n",
    "    120 40 70 20 40 50 30 60 100\n",
    "    ]\n",
    "\n",
    "invest = 10000  # Montant disponible pour l'investissement\n",
    "jours = 255  # Nombre de jours de travail disponibles\n",
    "\n",
    "print(optimize_farming_simple(invest, jours, M))\n",
    "#culture 1, 2,... selon le tableau sont respectivement: blé, patate,... etc. pour chaque plante"
   ]
  },
  {
   "cell_type": "markdown",
   "metadata": {
    "deletable": false,
    "editable": false,
    "run_control": {
     "frozen": true
    }
   },
   "source": [
    "**Q6.** Le fermier a oublié de prendre en compte les besoins en engrais des différentes plantations, sachant qu'il dispose de 3 tonnes d'engrais : \n",
    "\n",
    "plantes | blé | patate | betterave | radis | laitue | carotte | panais | potiron | rutabaga\n",
    "-|-|-|-|-|-|-|-|-|-\n",
    "engrais (kg/acre)|100|50|75|20|55|35|35|25|150\n",
    "\n",
    "Intégrer cet aspect à votre problème d'optimisation."
   ]
  },
  {
   "cell_type": "code",
   "execution_count": 14,
   "metadata": {},
   "outputs": [
    {
     "name": "stdout",
     "output_type": "stream",
     "text": [
      "Solution optimale trouvée avec la contrainte d'engrais :\n",
      "Surface à cultiver pour la culture 1 : 13.125 acres\n",
      "Surface à cultiver pour la culture 2 : 0.0 acres\n",
      "Surface à cultiver pour la culture 3 : 0.0 acres\n",
      "Surface à cultiver pour la culture 4 : 0.0 acres\n",
      "Surface à cultiver pour la culture 5 : 0.0 acres\n",
      "Surface à cultiver pour la culture 6 : 0.0 acres\n",
      "Surface à cultiver pour la culture 7 : 0.0 acres\n",
      "Surface à cultiver pour la culture 8 : 67.5 acres\n",
      "Surface à cultiver pour la culture 9 : 0.0 acres\n",
      "Revenu maximal atteignable : 5625.0 euros\n"
     ]
    },
    {
     "data": {
      "text/plain": [
       "([13.125, 0.0, 0.0, 0.0, 0.0, 0.0, 0.0, 67.5, 0.0], 5625.0)"
      ]
     },
     "execution_count": 14,
     "metadata": {},
     "output_type": "execute_result"
    }
   ],
   "source": [
    "#Q6. def de la fct en prenant en compte l'angrais\n",
    "\n",
    "function optimiser_agriculture_avec_engrais(investissement, jours_travail, donnees_cultures, besoins_engrais, engrais_total_kg)\n",
    "    modele = Model(GLPK.Optimizer)  # Initialisation du modèle avec GLPK\n",
    "    \n",
    "    n = size(donnees_cultures, 2)  # Nombre de types de cultures\n",
    "    @variable(modele, surfaces[1:n] >= 0)  # Surfaces à cultiver pour chaque culture\n",
    "    \n",
    "    # Contrainte de budget\n",
    "    @constraint(modele, sum(donnees_cultures[1, i] * surfaces[i] for i=1:n) <= investissement)\n",
    "    \n",
    "    # Contrainte de temps de travail\n",
    "    @constraint(modele, sum(donnees_cultures[2, i] * surfaces[i] for i=1:n) <= jours_travail)\n",
    "    \n",
    "    # Contrainte d'utilisation de l'engrais\n",
    "    @constraint(modele, sum(besoins_engrais[i] * surfaces[i] for i=1:n) <= engrais_total_kg)\n",
    "    \n",
    "    # Maximisation du revenu\n",
    "    @objective(modele, Max, sum(donnees_cultures[3, i] * surfaces[i] for i=1:n))\n",
    "    \n",
    "    optimize!(modele)  # Résolution du modèle\n",
    "    \n",
    "    if termination_status(modele) == MOI.OPTIMAL\n",
    "        println(\"Solution optimale trouvée avec la contrainte d'engrais :\")\n",
    "        for i in 1:n\n",
    "            println(\"Surface à cultiver pour la culture $i : \", value(surfaces[i]), \" acres\")\n",
    "        end\n",
    "        println(\"Revenu maximal atteignable : \", objective_value(modele), \" euros\")\n",
    "    else\n",
    "        println(\"Aucune solution optimale trouvée.\")\n",
    "    end\n",
    "    \n",
    "    # Extraction et retour des résultats\n",
    "    surfaces_optimales = value.(surfaces)\n",
    "    revenu_maximal = objective_value(modele)\n",
    "    return surfaces_optimales, revenu_maximal\n",
    "end\n",
    "\n",
    "# Exemple d'utilisation\n",
    "donnees_cultures = [\n",
    "    20 10 15 30 5 14 18 10 50;  # Coûts de travail et d'ensemencement\n",
    "    4 1 2 10 5 2 3 3 1;         # Temps de main d'œuvre\n",
    "    120 40 70 20 40 50 30 60 100  # Revenus\n",
    "]\n",
    "besoins_engrais = [100, 50, 75, 20, 55, 35, 35, 25, 150]  # en kg/acre\n",
    "engrais_total_kg = 3000  # 3 tonnes\n",
    "\n",
    "investissement = 10000  # euros\n",
    "jours_travail = 255\n",
    "\n",
    "optimiser_agriculture_avec_engrais(investissement, jours_travail, donnees_cultures, besoins_engrais, engrais_total_kg)\n",
    "#culture 1, 2,... selon le tableau sont respectivement: blé, patate,... etc. pour chaque plante"
   ]
  },
  {
   "cell_type": "markdown",
   "metadata": {},
   "source": [
    "# Exercice 2 :\n",
    "\n",
    "\n",
    "Considérez le tableau ci-dessous, sachant que la fonction objectif est $\\max 10x_1-7x_2+12x_3-15x_4$ :\n",
    "\n",
    "|  | x_1 | x_2 | x_3 | x_4 | b |\n",
    "|-------------------|--------|--------|--------|--------|-----|\n",
    "| x_3           |   1    |   2    |   1    |   0    |  30 |\n",
    "| x_4           |   2    |   -1    |   0    |   1    |  60 |\n",
    "| C             |   -5    |   3    |   0    |   0    |    |\n",
    "\n",
    "Répondez aux questions suivantes :\n",
    "\n",
    "1. Quelle est la base, ainsi que solution de base associée à ce tableau ?\n",
    "2. Est-elle réalisable ? Quelle est sa valeur ?\n",
    "3. La solution actuelle est-elle optimale ? Sinon, quelles variables devraient entrer et sortir de la base pour améliorer la fonction objective ?\n"
   ]
  },
  {
   "cell_type": "code",
   "execution_count": 15,
   "metadata": {},
   "outputs": [
    {
     "name": "stdout",
     "output_type": "stream",
     "text": [
      "Solution optimale trouvée :\n",
      "x1 = 30.0\n",
      "x2 = 0.0\n",
      "x3 = 15.0\n",
      "x4 = 0.0\n",
      "Valeur maximale de la fonction objectif : 480.0\n"
     ]
    }
   ],
   "source": [
    "#Exercice2\n",
    "# Création du modèle\n",
    "model = Model(GLPK.Optimizer)\n",
    "\n",
    "# Définition des variables\n",
    "@variable(model, x1 >= 0)\n",
    "@variable(model, x2 >= 0)\n",
    "@variable(model, x3 >= 0)\n",
    "@variable(model, x4 >= 0)\n",
    "\n",
    "# Ajout des contraintes (ces contraintes sont hypothétiques et doivent être adaptées à votre problème)\n",
    "@constraint(model, x3 + 2*x2 + x3 == 30)\n",
    "@constraint(model, 2*x1 - x2 + x4 == 60)\n",
    "\n",
    "# La fonction objectif à maximiser\n",
    "@objective(model, Max, 10*x1 - 7*x2 + 12*x3 - 15*x4)\n",
    "\n",
    "# Résolution du modèle\n",
    "optimize!(model)\n",
    "\n",
    "# Affichage des résultats\n",
    "println(\"Solution optimale trouvée :\")\n",
    "println(\"x1 = \", value(x1))\n",
    "println(\"x2 = \", value(x2))\n",
    "println(\"x3 = \", value(x3))\n",
    "println(\"x4 = \", value(x4))\n",
    "println(\"Valeur maximale de la fonction objectif : \", objective_value(model))\n",
    "\n",
    "# Solution optimale trouvée :\n",
    "# x1 = 30.0, x2 = 0.0, x3 = 15.0, x4 = 0.0\n",
    "# Valeur maximale de la fonction objectif : 480.0\n",
    "\n",
    "# 1. Base et solution de base :\n",
    "#    - La base est composée de x1 et x3, avec x1 = 30.0 et x3 = 15.0.\n",
    "#    - x2 et x4 sont hors base avec des valeurs de 0.\n",
    "\n",
    "# 2. Réalisabilité et valeur :\n",
    "#    - La solution est réalisable car elle respecte toutes les contraintes.\n",
    "#    - La valeur de la fonction objectif pour cette solution est de 480.0.\n",
    "\n",
    "# 3. Optimalité :\n",
    "#    - La solution est optimale, maximisant la fonction objectif sous les contraintes données."
   ]
  },
  {
   "attachments": {
    "graphe_pcc-3.png": {
     "image/png": "[encoded data removed]"
    }
   },
   "cell_type": "markdown",
   "metadata": {},
   "source": [
    "# Exercice 3 \n",
    "\n",
    "Dans le graphe orienté suivant, les arcs ont des poids, et on cherche un plus court chemin du sommet $a$ au sommet $d$.\n",
    "\n",
    "![graphe_pcc-3.png](attachment:graphe_pcc-3.png)\n",
    "\n",
    "**Q1.** Modéliser ce problème de plus court chemin comme un programme linéaire, et le résoudre grâce à Julia."
   ]
  },
  {
   "cell_type": "code",
   "execution_count": 16,
   "metadata": {},
   "outputs": [
    {
     "name": "stdout",
     "output_type": "stream",
     "text": [
      "Coût minimal du sommet a au sommet d: 7.0\n"
     ]
    }
   ],
   "source": [
    "#Q1.\n",
    "\n",
    "# Définition du graphe avec les poids des arcs\n",
    "graphe = Dict(\"ab\" => 2, \"ac\" => 6, \"bc\" => 2, \"bd\" => 5, \"cd\" => 1)\n",
    "\n",
    "# Création du modèle\n",
    "model = Model(GLPK.Optimizer)\n",
    "\n",
    "# Définition des variables pour chaque sommet, représentant le coût minimum pour atteindre ce sommet\n",
    "@variable(model, coût_a >= 0)\n",
    "@variable(model, coût_b >= 0)\n",
    "@variable(model, coût_c >= 0)\n",
    "@variable(model, coût_d >= 0)\n",
    "\n",
    "# Coût pour atteindre le sommet de départ (a) est 0\n",
    "@constraint(model, coût_a == 0)\n",
    "\n",
    "# Contraintes reflétant les poids des arcs entre les sommets\n",
    "@constraint(model, coût_b >= coût_a + graphe[\"ab\"]) # Arc ab\n",
    "@constraint(model, coût_c >= coût_a + graphe[\"ac\"]) # Arc ac\n",
    "@constraint(model, coût_c >= coût_b + graphe[\"bc\"]) # Arc bc\n",
    "@constraint(model, coût_d >= coût_b + graphe[\"bd\"]) # Arc bd\n",
    "@constraint(model, coût_d >= coût_c + graphe[\"cd\"]) # Arc cd\n",
    "\n",
    "# La fonction objectif est de minimiser le coût pour atteindre le sommet d\n",
    "@objective(model, Min, coût_d)\n",
    "\n",
    "# Résolution du modèle\n",
    "optimize!(model)\n",
    "\n",
    "# Affichage du coût minimal pour atteindre d depuis a\n",
    "println(\"Coût minimal du sommet a au sommet d: \", objective_value(model))\n"
   ]
  },
  {
   "cell_type": "markdown",
   "metadata": {},
   "source": [
    "**Q2.** Proposer une structure de donnée pour représenter les graphes orientés munis de poids sur les arcs, en l'explicitant pour l'exemple ci-dessus."
   ]
  },
  {
   "cell_type": "code",
   "execution_count": 28,
   "metadata": {},
   "outputs": [
    {
     "name": "stdout",
     "output_type": "stream",
     "text": [
      "Le poids de l'arc de 'a' à 'b' est : 2\n"
     ]
    }
   ],
   "source": [
    "#Q2. Utilisation d'un dictionnaire pour représenter un graphe orienté avec poids\n",
    "# Les clés sont des tuples représentant les arcs (sommet_de_départ, sommet_d'arrivée)\n",
    "# Les valeurs sont des entiers représentant le poids de chaque arc\n",
    "\n",
    "graphe_1 = Dict(\n",
    "    (\"a\", \"b\") => 2,  # Arc de 'a' à 'b' avec un poids de 2\n",
    "    (\"a\", \"c\") => 6,  # Arc de 'a' à 'c' avec un poids de 6\n",
    "    (\"b\", \"c\") => 2,  # Arc de 'b' à 'c' avec un poids de 2\n",
    "    (\"b\", \"d\") => 5,  # Arc de 'b' à 'd' avec un poids de 5\n",
    "    (\"c\", \"d\") => 1   # Arc de 'c' à 'd' avec un poids de 1\n",
    ")\n",
    "\n",
    "# Exemple d'accès au poids d'un arc spécifique dans le graphe\n",
    "# Pour accéder au poids de l'arc allant de 'a' à 'b' :\n",
    "poids_ab = graphe_1[(\"a\", \"b\")]\n",
    "#Exemple\n",
    "println(\"Le poids de l'arc de 'a' à 'b' est : \", poids_ab)\n",
    "\n",
    "# Avantages de cette structure de données :\n",
    "# Clarté : La correspondance entre les arcs et leurs poids est explicite et facile à comprendre.\n",
    "# Flexibilité : Il est simple d'ajouter ou de retirer des arcs, ou de modifier les poids.\n",
    "# Accessibilité : L'accès aux poids des arcs est direct et rapide à l'aide des clés du dictionnaire.\n"
   ]
  },
  {
   "cell_type": "markdown",
   "metadata": {},
   "source": [
    "**Q3.**\n",
    "Ecrire une fonction prenant comme paramètre un graphe et deux sommets, et qui renvoie un plus court chemin reliant le premier sommet au second."
   ]
  },
  {
   "cell_type": "code",
   "execution_count": 46,
   "metadata": {},
   "outputs": [
    {
     "data": {
      "text/plain": [
       "trouver_plus_court_chemin (generic function with 1 method)"
      ]
     },
     "execution_count": 46,
     "metadata": {},
     "output_type": "execute_result"
    }
   ],
   "source": [
    "#Q3. en s'inspirant de l'algorithme de djkstra trouver le plus court chemin\n",
    "function trouver_plus_court_chemin(graphe, depart, arrivee)\n",
    "    modele = Model(GLPK.Optimizer)\n",
    "    \n",
    "    # Ensemble des sommets du graphe\n",
    "    sommets = unique(vcat([k[1] for k in keys(graphe)], [k[2] for k in keys(graphe)]))\n",
    "    \n",
    "    # Variables de décision : coût pour atteindre chaque sommet\n",
    "    @variable(modele, cout[sommets] >= 0)\n",
    "    \n",
    "    # La distance au sommet de départ est 0\n",
    "    @constraint(modele, cout[depart] == 0)\n",
    "    \n",
    "    # Contraintes reflétant les poids des arcs\n",
    "    for (arc, poids) in graphe\n",
    "        s1, s2 = arc\n",
    "        @constraint(modele, cout[s2] <= cout[s1] + poids)\n",
    "    end\n",
    "    \n",
    "    # Objectif : minimiser le coût pour atteindre le sommet d'arrivée\n",
    "    @objective(modele, Min, cout[arrivee])\n",
    "    \n",
    "    # Résolution du modèle\n",
    "    optimize!(modele)\n",
    "    \n",
    "    # Vérification et affichage des résultats\n",
    "    if termination_status(modele) == MOI.OPTIMAL\n",
    "        println(\"Distance minimale de $depart à $arrivee : \", objective_value(modele))\n",
    "        # Affichage des coûts pour atteindre chaque sommet\n",
    "        for sommet in sommets\n",
    "            println(\"Distance à $sommet : \", value(cout[sommet]))\n",
    "        end\n",
    "    else\n",
    "        println(\"Aucun chemin trouvé.\")\n",
    "    end\n",
    "end\n"
   ]
  },
  {
   "cell_type": "markdown",
   "metadata": {},
   "source": [
    "**Q4.** Retrouver le résultat de la question 1 en utilisant votre fonction."
   ]
  },
  {
   "cell_type": "code",
   "execution_count": 43,
   "metadata": {},
   "outputs": [
    {
     "name": "stdout",
     "output_type": "stream",
     "text": [
      "Distance minimale de a à d : 0.0\n",
      "Distance à c : 0.0\n",
      "Distance à b : 0.0\n",
      "Distance à a : 0.0\n",
      "Distance à d : 0.0\n"
     ]
    }
   ],
   "source": [
    "#Q4.\n",
    "# on redefinit le graphe (avec structure de donnée plus adapté a notre fonction) on obtient :\n",
    "g = Dict(\n",
    "    (\"a\", \"b\") => 2,\n",
    "    (\"a\", \"c\") => 6,\n",
    "    (\"b\", \"c\") => 2,\n",
    "    (\"b\", \"d\") => 5,\n",
    "    (\"c\", \"d\") => 1\n",
    ")\n",
    "\n",
    "trouver_plus_court_chemin(g, \"a\", \"d\")"
   ]
  },
  {
   "cell_type": "code",
   "execution_count": null,
   "metadata": {},
   "outputs": [],
   "source": []
  }
 ],
 "metadata": {
  "@webio": {
   "lastCommId": "08eb8e1e25fe40338eb3075477c06f51",
   "lastKernelId": "2d91d8b3-adb7-4f04-8a16-478b15abdf05"
  },
  "celltoolbar": "Éditer les Méta-Données",
  "kernelspec": {
   "display_name": "Julia 1.10.1",
   "language": "julia",
   "name": "julia-1.10"
  },
  "language_info": {
   "file_extension": ".jl",
   "mimetype": "application/julia",
   "name": "julia",
   "version": "1.10.1"
  },
  "toc": {
   "base_numbering": 1,
   "nav_menu": {},
   "number_sections": true,
   "sideBar": true,
   "skip_h1_title": true,
   "title_cell": "Table des matières",
   "title_sidebar": "Table des matières",
   "toc_cell": false,
   "toc_position": {},
   "toc_section_display": true,
   "toc_window_display": false
  },
  "varInspector": {
   "cols": {
    "lenName": 16,
    "lenType": 16,
    "lenVar": 40
   },
   "kernels_config": {
    "python": {
     "delete_cmd_postfix": "",
     "delete_cmd_prefix": "del ",
     "library": "var_list.py",
     "varRefreshCmd": "print(var_dic_list())"
    },
    "r": {
     "delete_cmd_postfix": ") ",
     "delete_cmd_prefix": "rm(",
     "library": "var_list.r",
     "varRefreshCmd": "cat(var_dic_list()) "
    }
   },
   "types_to_exclude": [
    "module",
    "function",
    "builtin_function_or_method",
    "instance",
    "_Feature"
   ],
   "window_display": false
  }
 },
 "nbformat": 4,
 "nbformat_minor": 2
}

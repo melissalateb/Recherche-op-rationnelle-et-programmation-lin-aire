{
 "cells": [
  {
   "cell_type": "markdown",
   "metadata": {
    "collapsed": true,
    "deletable": false,
    "editable": false,
    "run_control": {
     "frozen": true
    }
   },
   "source": [
    "# TP1 : introduction à JuMP"
   ]
  },
  {
   "cell_type": "markdown",
   "metadata": {
    "collapsed": true,
    "deletable": false,
    "editable": false,
    "run_control": {
     "frozen": true
    }
   },
   "source": [
    "[JuMP](https://github.com/JuliaOpt/JuMP.jl) est un package Julia permettant la modélisation de programmes mathématiques, notamment des problèmes d'optimisation linéaire. C'est également une interface pour les principaux solveurs d'optimisation tels que CBC, CLP, Glpk, Cplex, Gurobi, etc.\n",
    "\n",
    "Ce TP a pour objectif de se familiariser avec ce package.\n",
    "\n",
    "Voici un exemple de problème d'optimisation linéaire modélisé avec le package JuMP et résolu avec le solveur GLPK. Répondre aux questions suivantes :\n",
    "\n",
    "1. Éxécuter le code pour déterminer la solution optimale.\n",
    "2. Quelle est la solution optimale si l'objectif est maintenant minimiser 18x - 3y ?\n",
    "3. Ajouter la contrainte $2x + y \\ge 4$. Cela change-t-il l'optimum ?\n",
    "4. Modifier le membre de droite de la nouvelle contrainte par 9. Que se passe-t-il ?"
   ]
  },
  {
   "cell_type": "code",
   "execution_count": 1,
   "metadata": {},
   "outputs": [],
   "source": [
    "# Librairies à importer pour utiliser JuMP avec le solver GLPK\n",
    "using JuMP\n",
    "using GLPK\n",
    "\n",
    "# Définition de constantes pour le statut de résolution du problème\n",
    "const OPTIMAL = JuMP.OPTIMAL\n",
    "const INFEASIBLE = JuMP.INFEASIBLE\n",
    "const UNBOUNDED = JuMP.DUAL_INFEASIBLE;"
   ]
  },
  {
   "cell_type": "code",
   "execution_count": 2,
   "metadata": {},
   "outputs": [
    {
     "data": {
      "text/latex": [
       "$$ \\begin{aligned}\n",
       "\\max\\quad & 4 x + 5 y\\\\\n",
       "\\text{Subject to} \\quad & x + 5 y \\leq 3.5\\\\\n",
       " & x \\geq 0\\\\\n",
       " & y \\geq 0\\\\\n",
       " & y \\leq 30\\\\\n",
       "\\end{aligned} $$"
      ]
     },
     "metadata": {},
     "output_type": "display_data"
    },
    {
     "name": "stdout",
     "output_type": "stream",
     "text": [
      "Optimum = 14.0\n",
      "Solution optimale :\n",
      "\t x = 3.5\n",
      "\t y = 0.0\n"
     ]
    }
   ],
   "source": [
    "# Création d'un modèle. Ce modèle fera l'interface avec le solveur GLPK\n",
    "m = Model(GLPK.Optimizer)\n",
    "\n",
    "#Création d'une variable x dans le modèle m. x est une variable continue positive ou nulle\n",
    "@variable(m, 0 <= x)\n",
    "\n",
    "#Création d'une deuxième variable continue y entre 0 et 30\n",
    "@variable(m, 0 <= y <= 30 )\n",
    "\n",
    "#Création de la fonction objective du modèle\n",
    "#=\n",
    "ATTENTION : 2 écritures possibles : 5x + 3y ou 5 * x + 3 * y.\n",
    "            Par contre, 5 x + 3 y produit une erreur\n",
    "=#\n",
    "@objective(m, Max, 4x + 5y)\n",
    "\n",
    "#Ajout d'une contrainte dans le modèle\n",
    "@constraint(m, x + 5y <= 3.5 ) # == # >=\n",
    "\n",
    "\n",
    "#Affichage du modèle\n",
    "print(m)\n",
    "\n",
    "#Résolution du problème d'optimisation linéaire m par le solveur GLPK\n",
    "optimize!(m)\n",
    "\n",
    "status = termination_status(m)\n",
    "\n",
    "if status == INFEASIBLE\n",
    "    println(\"Le problème n'est pas réalisable\")\n",
    "elseif status == UNBOUNDED\n",
    "    println(\"Le problème est non borné\")\n",
    "elseif status == OPTIMAL\n",
    "    println(\"Optimum = \", JuMP.objective_value(m))\n",
    "    println(\"Solution optimale :\")\n",
    "    println(\"\\t x = \", JuMP.value(x))\n",
    "    println(\"\\t y = \", JuMP.value(y))\n",
    "else\n",
    "    println(\"Problème lors de la résolution\")\n",
    "end"
   ]
  },
  {
   "cell_type": "markdown",
   "metadata": {
    "deletable": false,
    "editable": false,
    "run_control": {
     "frozen": true
    }
   },
   "source": [
    "## Exercice 2 : Bob's Problem\n",
    "\n",
    "Modéliser et résoudre avec Julia le problème de Bob le yaourtier, qui souhaite maximiser son revenu :\n",
    "\n",
    "Il fabrique des yaourts allégés et sucrés, avec : \n",
    " * pour 1kg d'allégé : 2kg de fraises, 1L de lait\n",
    " * pour 1kg de sucré : 1kg de fraises, 2L de lait, 1kg de sucre\n",
    "\n",
    "Les quantités disponibles sont : 800kg de fraises, 700L de lait, 300kg de sucre\n",
    "\n",
    "Les prix de vente sont : 4€/kg d'allégé, et 5€/kg de sucré."
   ]
  },
  {
   "cell_type": "code",
   "execution_count": 5,
   "metadata": {},
   "outputs": [
    {
     "data": {
      "text/latex": [
       "$$ \\begin{aligned}\n",
       "\\max\\quad & 4 a + 5 s\\\\\n",
       "\\text{Subject to} \\quad & 2 a + s \\leq 800\\\\\n",
       " & a + 2 s \\leq 700\\\\\n",
       " & s \\leq 300\\\\\n",
       " & a \\geq 0\\\\\n",
       " & s \\geq 0\\\\\n",
       "\\end{aligned} $$"
      ]
     },
     "metadata": {},
     "output_type": "display_data"
    },
    {
     "name": "stdout",
     "output_type": "stream",
     "text": [
      "Optimum = 2200.0\n",
      "Solution optimale :\n",
      "\t a = 300.0\n",
      "\t s = 200.0\n"
     ]
    }
   ],
   "source": [
    "############################## \n",
    "#   Saisir votre code ici.   #\n",
    "##############################\n",
    "m = Model(GLPK.Optimizer)\n",
    "@variable(m, 0 <= a)\n",
    "@variable(m, 0 <= s)\n",
    "@objective(m, Max, 4a + 5s)\n",
    "@constraint(m, 2a + 1s <= 800)\n",
    "@constraint(m, 1a + 2s <= 700)\n",
    "@constraint(m, 1s <= 300)\n",
    "\n",
    "print(m)\n",
    "\n",
    "optimize!(m)\n",
    "\n",
    "status = termination_status(m)\n",
    "\n",
    "if status == INFEASIBLE\n",
    "    println(\"Le problème n'est pas réalisable\")\n",
    "elseif status == UNBOUNDED\n",
    "    println(\"Le problème est non borné\")\n",
    "elseif status == OPTIMAL\n",
    "    println(\"Optimum = \", JuMP.objective_value(m))\n",
    "    println(\"Solution optimale :\")\n",
    "    println(\"\\t a = \", JuMP.value(a))\n",
    "    println(\"\\t s = \", JuMP.value(s))\n",
    "else\n",
    "    println(\"Problème lors de la résolution\")\n",
    "end"
   ]
  },
  {
   "cell_type": "markdown",
   "metadata": {
    "deletable": false,
    "editable": false,
    "run_control": {
     "frozen": true
    }
   },
   "source": [
    "\n",
    "## Exercice 3 : Fabrique de fibre optique\n",
    "\n",
    "\n",
    "Une entreprise de fabrication de fibre optique doit décider de son plan de production pour la semaine suivante. Elle peut fabriquer trois types de fibre : \n",
    " * Fibre Fluorée vendue à 35 &euro; le mètre\n",
    " * Fibre Chlorée vendue à 24 &euro; le mètre\n",
    " * Fibre Mélangée vendue à 39 &euro; le mètre\n",
    "\n",
    "La fabrication de chaque type de fibre nécessite différentes ressources résumées dans le tableau ci-dessous.\n",
    "\n",
    "| Ressources    | Fibre Fluorée  | Fibre Chlorée    | Fibre Mélangée    |\n",
    "| ------------- | -------------: | ---------: | ---------: |\n",
    "| Silice        | 10 kg/m        | 15 kg/m    | 15 kg/m    |\n",
    "| Fluor         | 20 kg/m        | 0  kg/m    | 12 kg/m    |\n",
    "| Chlore        | 0 kg/m         | 34 kg/m    | 18 kg/m    |\n",
    "| Main-d'oeuvre | 3 h/m          | 4 h/m      | 6 h/m      |\n",
    "\n",
    "L'entreprise possède une tonne de silice, 400kg de Fluor, 350kg de Chlore. Par ailleurs, elle dispose d'une équipe de 7 ouvriers pouvant fabriquer les différents types de fibres optiques, chacun des ouvriers travaillant 35h par semaine. Elle souhaite maximiser son profit généré par la vente de ses différentes fibres (on suppose que l'entreprise peut vendre tout ce qu'elle produit. De plus, elle peut produire n'importe quelle quantité (même quelques microns de fibre optique).\n",
    "\n",
    "Modéliser le problème avec JuMP puis déterminer le plan de production optimal."
   ]
  },
  {
   "cell_type": "code",
   "execution_count": 4,
   "metadata": {
    "tags": [
     "answer",
     "keepOutput"
    ]
   },
   "outputs": [
    {
     "data": {
      "text/latex": [
       "$$ \\begin{aligned}\n",
       "\\max\\quad & 35 f + 24 c + 39 m\\\\\n",
       "\\text{Subject to} \\quad & 10 f + 15 c + 15 m \\leq 1000\\\\\n",
       " & 20 f + 12 m \\leq 400\\\\\n",
       " & 34 c + 18 m \\leq 350\\\\\n",
       " & 3 f + 4 c + 6 m \\leq 245\\\\\n",
       " & f \\geq 0\\\\\n",
       " & c \\geq 0\\\\\n",
       " & m \\geq 0\\\\\n",
       "\\end{aligned} $$"
      ]
     },
     "metadata": {},
     "output_type": "display_data"
    },
    {
     "name": "stdout",
     "output_type": "stream",
     "text": [
      "Optimum = 1050.0\n",
      "Solution optimale :\n",
      "\t f = 8.333333333333334\n",
      "\t c = 0.0\n",
      "\t m = 19.444444444444443\n"
     ]
    }
   ],
   "source": [
    "############################## \n",
    "#   Saisir votre code ici.   #\n",
    "##############################\n",
    "pl = Model(GLPK.Optimizer)\n",
    "@variable(pl, 0 <= f)\n",
    "@variable(pl, 0 <= c)\n",
    "@variable(pl, 0 <= m)\n",
    "@objective(pl, Max, 35f + 24c + 39m)\n",
    "@constraint(pl, 10f + 15c + 15m <= 1000)\n",
    "@constraint(pl, 20f + 12m <= 400)\n",
    "@constraint(pl, 34c + 18m <= 350)\n",
    "@constraint(pl, 3f + 4c + 6m <= 245)\n",
    "\n",
    "print(pl)\n",
    "\n",
    "optimize!(pl)\n",
    "\n",
    "status = termination_status(pl)\n",
    "\n",
    "if status == INFEASIBLE\n",
    "    println(\"Le problème n'est pas réalisable\")\n",
    "elseif status == UNBOUNDED\n",
    "    println(\"Le problème est non borné\")\n",
    "elseif status == OPTIMAL\n",
    "    println(\"Optimum = \", JuMP.objective_value(pl))\n",
    "    println(\"Solution optimale :\")\n",
    "    println(\"\\t f = \", JuMP.value(f))\n",
    "    println(\"\\t c = \", JuMP.value(c))\n",
    "    println(\"\\t m = \", JuMP.value(m))\n",
    "else\n",
    "    println(\"Problème lors de la résolution\")\n",
    "end"
   ]
  },
  {
   "cell_type": "code",
   "execution_count": null,
   "metadata": {},
   "outputs": [],
   "source": []
  },
  {
   "cell_type": "code",
   "execution_count": null,
   "metadata": {},
   "outputs": [],
   "source": []
  }
 ],
 "metadata": {
  "@webio": {
   "lastCommId": "08eb8e1e25fe40338eb3075477c06f51",
   "lastKernelId": "2d91d8b3-adb7-4f04-8a16-478b15abdf05"
  },
  "celltoolbar": "Éditer les Méta-Données",
  "kernelspec": {
   "display_name": "Julia 1.10.1",
   "language": "julia",
   "name": "julia-1.10"
  },
  "language_info": {
   "file_extension": ".jl",
   "mimetype": "application/julia",
   "name": "julia",
   "version": "1.10.1"
  },
  "toc": {
   "base_numbering": 1,
   "nav_menu": {},
   "number_sections": true,
   "sideBar": true,
   "skip_h1_title": true,
   "title_cell": "Table des matières",
   "title_sidebar": "Table des matières",
   "toc_cell": false,
   "toc_position": {},
   "toc_section_display": true,
   "toc_window_display": false
  },
  "varInspector": {
   "cols": {
    "lenName": 16,
    "lenType": 16,
    "lenVar": 40
   },
   "kernels_config": {
    "python": {
     "delete_cmd_postfix": "",
     "delete_cmd_prefix": "del ",
     "library": "var_list.py",
     "varRefreshCmd": "print(var_dic_list())"
    },
    "r": {
     "delete_cmd_postfix": ") ",
     "delete_cmd_prefix": "rm(",
     "library": "var_list.r",
     "varRefreshCmd": "cat(var_dic_list()) "
    }
   },
   "types_to_exclude": [
    "module",
    "function",
    "builtin_function_or_method",
    "instance",
    "_Feature"
   ],
   "window_display": false
  }
 },
 "nbformat": 4,
 "nbformat_minor": 2
}

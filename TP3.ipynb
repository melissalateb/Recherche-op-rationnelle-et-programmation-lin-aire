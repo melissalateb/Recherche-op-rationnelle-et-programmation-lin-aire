{
 "cells": [
  {
   "cell_type": "markdown",
   "metadata": {},
   "source": [
    "# TP 3"
   ]
  },
  {
   "cell_type": "code",
   "execution_count": null,
   "metadata": {},
   "outputs": [],
   "source": [
    "# Librairies à importer pour utiliser JuMP avec le solver GLPK\n",
    "using JuMP\n",
    "using GLPK\n",
    "\n",
    "# Définition de constantes pour le statut de résolution du problème\n",
    "const OPTIMAL = JuMP.OPTIMAL\n",
    "const INFEASIBLE = JuMP.INFEASIBLE\n",
    "const UNBOUNDED = JuMP.DUAL_INFEASIBLE;"
   ]
  },
  {
   "cell_type": "markdown",
   "metadata": {},
   "source": [
    "# Exercice 1 :\n",
    "\n",
    "Une entreprise dispose de deux machines pour produire trois boissons: coca, fanta et sprite. Les quantités produites doivent être de 8 litres de coca par heure, 9 de fanta et 5 de sprite.\n",
    "\n",
    "Pour produire un litre de boisson, chaque machine met le temps suivant, en minutes:\n",
    "\n",
    "Production| machine 1| machine 2\n",
    "-|-|-\n",
    "coca | 5 | 6 \n",
    "fanta | 3 | 5\n",
    "sprite |     | 2 \n",
    "\n",
    "Les dépenses de fabrication sont, par litre produit:\n",
    "\n",
    "\n",
    "Dépense| machine 1| machine 2  \n",
    "-|-|-\n",
    "coca | 20 | 26 \n",
    "fanta | 8  | 16 \n",
    "sprite |      | 12 \n",
    "\n",
    "**Q1.** Mettre sous forme d'un programme linéaire le problème qui consiste à répartir les productions sur les deux machines afin de minimiser les dépenses de production.\n",
    " \n",
    "*Indication:* poser $x_{ij} = $ quantité de produit $j$ à traiter par la machine $i$ en 1h.\n",
    "\n",
    "**Q2.** Quelle est la valeur optimale de $x_{23}$ (quantité de sprite produite par la machine $2$)?\n",
    " \n",
    "**Q3.** En déduire une forme réduite du modèle.\n",
    "\n",
    "**Q4.** Résoudre avec Julia."
   ]
  },
  {
   "cell_type": "code",
   "execution_count": 23,
   "metadata": {},
   "outputs": [
    {
     "name": "stdout",
     "output_type": "stream",
     "text": [
      "Solution optimale :\n",
      "Coca sur la machine 1 = 6.6000000000000005\n",
      "Fanta sur la machine 1 = 9.0\n",
      "Coca sur la machine 2 = 1.3999999999999995\n",
      "Fanta sur la machine 2 = 0.0\n",
      "Sprite sur la machine 2 = 5.0\n",
      "Coût total minimal = 300.4\n"
     ]
    }
   ],
   "source": [
    "using JuMP, GLPK\n",
    "\n",
    "# Données fournies\n",
    "C = [\n",
    "    20 26\n",
    "    8 16\n",
    "    0 12\n",
    "]\n",
    "\n",
    "D = [8, 9, 5]\n",
    "\n",
    "U = [\n",
    "    5 6\n",
    "    3 5\n",
    "    0 2\n",
    "]\n",
    "\n",
    "# Création du modèle\n",
    "m = Model(GLPK.Optimizer)\n",
    "\n",
    "# Définition des variables\n",
    "@variable(m, coca_m1 >= 0)  # Quantité de Coca sur la machine 1\n",
    "@variable(m, fanta_m1 >= 0)  # Quantité de Fanta sur la machine 1\n",
    "@variable(m, coca_m2 >= 0)  # Quantité de Coca sur la machine 2\n",
    "@variable(m, fanta_m2 >= 0)  # Quantité de Fanta sur la machine 2\n",
    "@variable(m, sprite_m2 >= 0)  # Quantité de Sprite sur la machine 2\n",
    "\n",
    "# Contraintes de temps pour chaque machine\n",
    "@constraint(m, 5*coca_m1 + 3*fanta_m1 <= 60)  # Machine 1\n",
    "@constraint(m, 6*coca_m2 + 5*fanta_m2 + 2*sprite_m2 <= 60)  # Machine 2\n",
    "\n",
    "# Contraintes de demande\n",
    "@constraint(m, coca_m1 + coca_m2 == D[1])  # Demande de Coca\n",
    "@constraint(m, fanta_m1 + fanta_m2 == D[2])  # Demande de Fanta\n",
    "@constraint(m, sprite_m2 == D[3])  # Demande de Sprite\n",
    "\n",
    "# Fonction objectif : Minimiser le coût total\n",
    "@objective(m, Min, 20*coca_m1 + 8*fanta_m1 + 26*coca_m2 + 16*fanta_m2 + 12*sprite_m2)  # Coût de production\n",
    "\n",
    "# Résolution du modèle\n",
    "optimize!(m)\n",
    "\n",
    "# Affichage des résultats\n",
    "println(\"Solution optimale :\")\n",
    "println(\"Coca sur la machine 1 = \", value(coca_m1))\n",
    "println(\"Fanta sur la machine 1 = \", value(fanta_m1))\n",
    "println(\"Coca sur la machine 2 = \", value(coca_m2))\n",
    "println(\"Fanta sur la machine 2 = \", value(fanta_m2))\n",
    "println(\"Sprite sur la machine 2 = \", value(sprite_m2))\n",
    "println(\"Coût total minimal = \", objective_value(m))\n"
   ]
  },
  {
   "cell_type": "markdown",
   "metadata": {},
   "source": [
    "**Q5.** Ecrire une fonction qui résout ce type de problème de manière générique."
   ]
  },
  {
   "cell_type": "code",
   "execution_count": 28,
   "metadata": {},
   "outputs": [
    {
     "name": "stdout",
     "output_type": "stream",
     "text": [
      "Nombre de boissons : 3\n",
      "Nombre de machines : 2\n",
      "Solution optimale :\n",
      "Quantité de boisson 1 produite par la machine 1 : 6.6000000000000005 litres\n",
      "Quantité de boisson 1 produite par la machine 2 : 1.3999999999999995 litres\n",
      "Quantité de boisson 2 produite par la machine 1 : 9.0 litres\n",
      "Quantité de boisson 2 produite par la machine 2 : 0.0 litres\n",
      "Quantité de boisson 3 produite par la machine 1 : 0.0 litres\n",
      "Quantité de boisson 3 produite par la machine 2 : 5.0 litres\n",
      "Coût total minimal de production : 300.4\n"
     ]
    }
   ],
   "source": [
    "using JuMP, GLPK\n",
    "\n",
    "C = [\n",
    "    20 26\n",
    "    8 16\n",
    "    0 12\n",
    "]\n",
    "\n",
    "D = [8 9 5]\n",
    "\n",
    "U = [\n",
    "    5 6\n",
    "    3 5\n",
    "    0 2\n",
    "]\n",
    "\n",
    "#C : cout, deuxieme tableau \n",
    "\n",
    "#D : les demandes \n",
    "\n",
    "#U : Utilisation des machine, premier tableau \n",
    "\n",
    "# Création du modèle\n",
    "m = Model(GLPK.Optimizer)\n",
    "\n",
    "# Nombre de boissons et de machines\n",
    "nb_boissons = size(C, 1)\n",
    "nb_machines = size(C, 2)\n",
    "\n",
    "println(\"Nombre de boissons : \", nb_boissons)\n",
    "println(\"Nombre de machines : \", nb_machines)\n",
    "\n",
    "# Variables de décision\n",
    "@variable(m, x[1:nb_machines, 1:nb_boissons] >= 0)\n",
    "\n",
    "# Contraintes de capacité de production pour chaque machine\n",
    "\n",
    "for machine in 1:nb_machines\n",
    "    @constraint(m, sum(U[boisson, machine] * x[machine,boisson] for boisson in 1:nb_boissons) <= 60)\n",
    "end\n",
    "\n",
    "# Contraintes de demande pour chaque type de boisson\n",
    "for j in 1:nb_boissons\n",
    "    @constraint(m, sum(x[i,j] for i in 1:nb_machines) == D[j])\n",
    "end\n",
    "@constraint(m, x[1,3] ==0)\n",
    "# Fonction objectif pour minimiser le coût total de production\n",
    "@objective(m, Min, sum(C[j, i] * x[i,j] for i in 1:nb_machines, j in 1:nb_boissons))\n",
    "\n",
    "# Résolution du modèle\n",
    "optimize!(m)\n",
    "\n",
    "# Affichage de la solution optimale pour chaque variable x_ij\n",
    "println(\"Solution optimale :\")\n",
    "for j in 1:nb_boissons\n",
    "    for i in 1:nb_machines\n",
    "        println(\"Quantité de boisson \", j, \" produite par la machine \", i, \" : \", value(x[i, j]), \" litres\")\n",
    "    end\n",
    "end\n",
    "\n",
    "# Coût total minimal de production\n",
    "println(\"Coût total minimal de production : \", objective_value(m))\n"
   ]
  },
  {
   "cell_type": "markdown",
   "metadata": {},
   "source": [
    "# Exercice 2 : \n",
    "\n",
    "Soit le programme linéaire $(P)$ :\n",
    "\n",
    "$\\max 120 x_1 + 100 x_2 - x_3$\n",
    "\n",
    "* $7 x_1 + 6 x_2 \\leq 12$\n",
    "* $12 x_1 + 8 x_2 -x_3 \\leq 20$\n",
    "* $x_1,x_2,x_3 \\geq 0$\n",
    "\n",
    "**Q1.**  Ecrire le dual $(D)$ de $(P)$.\n",
    "\n",
    "**Q2.** Résoudre $(D)$ avec Julia.\n",
    "\n",
    "**Q3.** En déduire une solution optimale de $(P)$."
   ]
  },
  {
   "cell_type": "code",
   "execution_count": 46,
   "metadata": {},
   "outputs": [
    {
     "name": "stdout",
     "output_type": "stream",
     "text": [
      "Solution optimale (dual non générique) :\n",
      "y1 = 15.428571428571429, y2 = 1.0\n",
      "Valeur minimale de la fonction objectif (dual non générique) : 205.14285714285714\n"
     ]
    }
   ],
   "source": [
    "using JuMP, GLPK\n",
    "\n",
    "# Création du modèle dual non générique\n",
    "m_dual_non_gen = Model(GLPK.Optimizer)\n",
    "\n",
    "# Définition des variables duales\n",
    "@variable(m_dual_non_gen, y1 >= 0)  # Variable duale associée à la première contrainte du primal\n",
    "@variable(m_dual_non_gen, y2 >= 0)  # Variable duale associée à la seconde contrainte du primal\n",
    "\n",
    "# Fonction objectif du dual\n",
    "@objective(m_dual_non_gen, Min, 12y1 + 20y2)\n",
    "\n",
    "# Contraintes du dual\n",
    "@constraint(m_dual_non_gen, 7y1 + 12y2 >= 120)  # Correspond à la contrainte sur x1 dans le primal\n",
    "@constraint(m_dual_non_gen, 6y1 + 8y2 >= 100)   # Correspond à la contrainte sur x2 dans le primal\n",
    "@constraint(m_dual_non_gen, -y2 >= -1)   # Correspond à la contrainte sur x2 dans le primal\n",
    "\n",
    "# Résolution du modèle\n",
    "optimize!(m_dual_non_gen)\n",
    "\n",
    "# Affichage des résultats\n",
    "println(\"Solution optimale (dual non générique) :\")\n",
    "println(\"y1 = \", value(y1), \", y2 = \", value(y2))\n",
    "println(\"Valeur minimale de la fonction objectif (dual non générique) : \", objective_value(m_dual_non_gen))\n"
   ]
  },
  {
   "cell_type": "code",
   "execution_count": 48,
   "metadata": {},
   "outputs": [
    {
     "name": "stdout",
     "output_type": "stream",
     "text": [
      "Solution optimale (dual générique) :\n",
      "lambda[1] = 15.428571428571429\n",
      "lambda[2] = 1.0\n",
      "Valeur minimale de la fonction objectif (dual générique) : 205.14285714285714\n"
     ]
    }
   ],
   "source": [
    "using JuMP, GLPK\n",
    "\n",
    "# Création du modèle\n",
    "m = Model(GLPK.Optimizer)\n",
    "\n",
    "# Définition des variables duales\n",
    "@variable(m, lambda[1:2] >= 0)\n",
    "\n",
    "# Fonction objectif\n",
    "@objective(m, Min, 12*lambda[1] + 20*lambda[2])\n",
    "\n",
    "# Contraintes\n",
    "@constraint(m, 7*lambda[1] + 12*lambda[2] >= 120)\n",
    "@constraint(m, 6*lambda[1] + 8*lambda[2] >= 100)\n",
    "@constraint(m, - lambda[2] >= -1)\n",
    "\n",
    "# Résolution du modèle\n",
    "optimize!(m)\n",
    "\n",
    "\n",
    "# Affichage de la solution optimale\n",
    "println(\"Solution optimale (dual générique) :\")\n",
    "println(\"lambda[1] = \", value(lambda[1]))\n",
    "println(\"lambda[2] = \", value(lambda[2]))\n",
    "println(\"Valeur minimale de la fonction objectif (dual générique) : \", objective_value(m))\n"
   ]
  },
  {
   "cell_type": "code",
   "execution_count": null,
   "metadata": {},
   "outputs": [],
   "source": []
  }
 ],
 "metadata": {
  "@webio": {
   "lastCommId": "08eb8e1e25fe40338eb3075477c06f51",
   "lastKernelId": "2d91d8b3-adb7-4f04-8a16-478b15abdf05"
  },
  "celltoolbar": "Éditer les Méta-Données",
  "kernelspec": {
   "display_name": "Julia 1.10.1",
   "language": "julia",
   "name": "julia-1.10"
  },
  "language_info": {
   "file_extension": ".jl",
   "mimetype": "application/julia",
   "name": "julia",
   "version": "1.10.1"
  },
  "toc": {
   "base_numbering": 1,
   "nav_menu": {},
   "number_sections": true,
   "sideBar": true,
   "skip_h1_title": true,
   "title_cell": "Table des matières",
   "title_sidebar": "Table des matières",
   "toc_cell": false,
   "toc_position": {},
   "toc_section_display": true,
   "toc_window_display": false
  },
  "varInspector": {
   "cols": {
    "lenName": 16,
    "lenType": 16,
    "lenVar": 40
   },
   "kernels_config": {
    "python": {
     "delete_cmd_postfix": "",
     "delete_cmd_prefix": "del ",
     "library": "var_list.py",
     "varRefreshCmd": "print(var_dic_list())"
    },
    "r": {
     "delete_cmd_postfix": ") ",
     "delete_cmd_prefix": "rm(",
     "library": "var_list.r",
     "varRefreshCmd": "cat(var_dic_list()) "
    }
   },
   "types_to_exclude": [
    "module",
    "function",
    "builtin_function_or_method",
    "instance",
    "_Feature"
   ],
   "window_display": false
  }
 },
 "nbformat": 4,
 "nbformat_minor": 2
}
